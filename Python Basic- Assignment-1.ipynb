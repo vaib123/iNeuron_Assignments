{
 "cells": [
  {
   "cell_type": "markdown",
   "id": "599b58d9",
   "metadata": {},
   "source": [
    "Name: Vaibhav Sanjay Pate  \n",
    "Program: Full Stack Data Science Bootcamp  \n",
    "Assignment Number 1\n",
    "    "
   ]
  },
  {
   "cell_type": "markdown",
   "id": "991700b0",
   "metadata": {},
   "source": [
    "# **Python Basics:**"
   ]
  },
  {
   "cell_type": "markdown",
   "id": "73e16f5a",
   "metadata": {},
   "source": [
    "**Question 1:  \n",
    "In the below elements which of them are values or an expression?**"
   ]
  },
  {
   "cell_type": "markdown",
   "id": "b1782d59",
   "metadata": {},
   "source": [
    "eg:- values can be integer or string and expressions will be mathematical operators.  "
   ]
  },
  {
   "cell_type": "markdown",
   "id": "97c10465",
   "metadata": {},
   "source": [
    "   ***** >> this is Expression       \n",
    "**'hello'** >> This is Values  \n",
    "**-87.8** >> Values  \n",
    " **-** >> Expression  \n",
    "**/** >> Expression  \n",
    " **+** >> Expression  \n",
    "**6** --> Values "
   ]
  },
  {
   "cell_type": "markdown",
   "id": "0a9227c4",
   "metadata": {},
   "source": [
    "**Question:2   \n",
    "What is the difference between string and variable?**"
   ]
  },
  {
   "cell_type": "markdown",
   "id": "09378727",
   "metadata": {},
   "source": [
    "A Variable is a store of information, and a String is a type of information that we would store in a Variable.  \n",
    "A String is usually words, enclosed with \"\".  \n",
    "  \n",
    "Ex : String x =\"Welcome to iNeuron\" \n",
    "\n",
    "Here x is a variable and we declare it as a string."
   ]
  },
  {
   "cell_type": "markdown",
   "id": "4c3f50b5",
   "metadata": {},
   "source": [
    "**Question:3  \n",
    "Describe three different data types.**"
   ]
  },
  {
   "cell_type": "markdown",
   "id": "991f2895",
   "metadata": {},
   "source": [
    "There are maily 5 data types in the python:  \n",
    "\n",
    "1) Numeric: Integer, Float, complex number  \n",
    "2) Dictionary  \n",
    "3) Boolean  \n",
    "4) Set   \n",
    "5) Sequence Type: String, list, Tuple  \n"
   ]
  },
  {
   "cell_type": "markdown",
   "id": "7d8f9a56",
   "metadata": {},
   "source": [
    "**Question:4   \n",
    "What is an expression made up of? What do all expressions do?**"
   ]
  },
  {
   "cell_type": "markdown",
   "id": "1a2fa7d1",
   "metadata": {},
   "source": [
    "An expression is a combination of operators and operands that is interpreted to produce some other value.  \n",
    "In any programming language, an expression is evaluated as per the precedence of its operators  "
   ]
  },
  {
   "cell_type": "markdown",
   "id": "8cb606ec",
   "metadata": {},
   "source": [
    "Below is the multiple operators in expression:  \n",
    "    \n",
    "1) Parenthesis : ()[]{}  \n",
    "2) Exponentiation: **  \n",
    "3) Unary: +a, -a, ~a  \n",
    "4) Add & Sub : + -  \n",
    "5) Shift operator: << >>  \n",
    "6) Bitwise AND: &  \n",
    "7) Bitwise OR: |  \n",
    "8) Comparison: <=, >=, <, >  \n",
    "9) Logical: and, or, not  "
   ]
  },
  {
   "cell_type": "markdown",
   "id": "d8592df3",
   "metadata": {},
   "source": [
    "**Question:5  \n",
    "This assignment statements, like spam = 10. What is the difference between an expression and a statement?**"
   ]
  },
  {
   "cell_type": "markdown",
   "id": "4834c788",
   "metadata": {},
   "source": [
    "Spam=10  \n",
    "\n",
    "Expression is made up of values and mathematical operators i.e operands.  \n",
    "Statement is just like a command that a python interpreter executes like print.  "
   ]
  },
  {
   "cell_type": "markdown",
   "id": "8d1356b1",
   "metadata": {},
   "source": [
    "**Question:6   \n",
    "After running the following code, what does the variable bacon contain?  \n",
    "bacon = 22  \n",
    "bacon + 1**"
   ]
  },
  {
   "cell_type": "code",
   "execution_count": 7,
   "id": "f4587120",
   "metadata": {},
   "outputs": [],
   "source": [
    "bacon=22"
   ]
  },
  {
   "cell_type": "code",
   "execution_count": 8,
   "id": "c22693f3",
   "metadata": {},
   "outputs": [
    {
     "data": {
      "text/plain": [
       "23"
      ]
     },
     "execution_count": 8,
     "metadata": {},
     "output_type": "execute_result"
    }
   ],
   "source": [
    "bacon + 1"
   ]
  },
  {
   "cell_type": "markdown",
   "id": "4b819ee5",
   "metadata": {},
   "source": [
    "**Question:7  \n",
    "What should the values of the following two terms be?  \n",
    "'spam' + 'spamspam'  \n",
    "'spam' * 3**"
   ]
  },
  {
   "cell_type": "markdown",
   "id": "3f75d2f2",
   "metadata": {},
   "source": [
    "Values should be same for both the terms.  "
   ]
  },
  {
   "cell_type": "code",
   "execution_count": 12,
   "id": "98d631e9",
   "metadata": {},
   "outputs": [
    {
     "data": {
      "text/plain": [
       "'spamspamspam'"
      ]
     },
     "execution_count": 12,
     "metadata": {},
     "output_type": "execute_result"
    }
   ],
   "source": [
    "'spam' + 'spamspam'"
   ]
  },
  {
   "cell_type": "code",
   "execution_count": 13,
   "id": "a288f5c3",
   "metadata": {},
   "outputs": [
    {
     "data": {
      "text/plain": [
       "'spamspamspam'"
      ]
     },
     "execution_count": 13,
     "metadata": {},
     "output_type": "execute_result"
    }
   ],
   "source": [
    "'spam'*3"
   ]
  },
  {
   "cell_type": "markdown",
   "id": "ee0bab61",
   "metadata": {},
   "source": [
    "**Question:8  \n",
    "Why is eggs a valid variable name while 100 is invalid?**"
   ]
  },
  {
   "cell_type": "markdown",
   "id": "bff5e2c9",
   "metadata": {},
   "source": [
    "because we can't start giving variable an integer name. so eggs is valid and 100 is invalid."
   ]
  },
  {
   "cell_type": "markdown",
   "id": "ff31e937",
   "metadata": {},
   "source": [
    "**Question:9  \n",
    "What three functions can be used to get the integer, floating-point number, or string version of a value?**"
   ]
  },
  {
   "cell_type": "markdown",
   "id": "ca747a67",
   "metadata": {},
   "source": [
    "Integer : int()  \n",
    "Floating: float()  \n",
    "String:  str()"
   ]
  },
  {
   "cell_type": "markdown",
   "id": "cc2df834",
   "metadata": {},
   "source": [
    "**Question:10  \n",
    "Why does this expression cause an error? How can you fix it?  \n",
    "'I have eaten ' + 99 + ' burritos.'**\n"
   ]
  },
  {
   "cell_type": "code",
   "execution_count": 21,
   "id": "488f5607",
   "metadata": {},
   "outputs": [
    {
     "ename": "TypeError",
     "evalue": "can only concatenate str (not \"int\") to str",
     "output_type": "error",
     "traceback": [
      "\u001b[1;31m---------------------------------------------------------------------------\u001b[0m",
      "\u001b[1;31mTypeError\u001b[0m                                 Traceback (most recent call last)",
      "\u001b[1;32m<ipython-input-21-9230c793b9b6>\u001b[0m in \u001b[0;36m<module>\u001b[1;34m\u001b[0m\n\u001b[1;32m----> 1\u001b[1;33m \u001b[1;34m'I have eaten'\u001b[0m \u001b[1;33m+\u001b[0m \u001b[1;36m99\u001b[0m \u001b[1;33m+\u001b[0m \u001b[1;34m'burritos'\u001b[0m\u001b[1;33m\u001b[0m\u001b[1;33m\u001b[0m\u001b[0m\n\u001b[0m",
      "\u001b[1;31mTypeError\u001b[0m: can only concatenate str (not \"int\") to str"
     ]
    }
   ],
   "source": [
    "'I have eaten' + 99 + 'burritos'"
   ]
  },
  {
   "cell_type": "markdown",
   "id": "5f5a893b",
   "metadata": {},
   "source": [
    "Here, 99 is an integer it cannot be concatenate with strings. To do this we should use typecasting."
   ]
  },
  {
   "cell_type": "code",
   "execution_count": null,
   "id": "05a26e81",
   "metadata": {},
   "outputs": [],
   "source": []
  }
 ],
 "metadata": {
  "kernelspec": {
   "display_name": "Python 3",
   "language": "python",
   "name": "python3"
  },
  "language_info": {
   "codemirror_mode": {
    "name": "ipython",
    "version": 3
   },
   "file_extension": ".py",
   "mimetype": "text/x-python",
   "name": "python",
   "nbconvert_exporter": "python",
   "pygments_lexer": "ipython3",
   "version": "3.8.8"
  }
 },
 "nbformat": 4,
 "nbformat_minor": 5
}
