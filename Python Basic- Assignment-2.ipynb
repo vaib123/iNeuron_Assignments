{
 "cells": [
  {
   "cell_type": "markdown",
   "id": "efa490a0",
   "metadata": {},
   "source": [
    "Name: Vaibhav Sanjay Pate  \n",
    "Program: Full Stack Data Science Bootcamp  \n",
    "Assignment Number 2"
   ]
  },
  {
   "cell_type": "markdown",
   "id": "1e66e202",
   "metadata": {},
   "source": [
    "# **Python Basics**"
   ]
  },
  {
   "cell_type": "markdown",
   "id": "5deb1342",
   "metadata": {},
   "source": [
    "**Question:1  \n",
    "What are the two values of the Boolean data type? How do you write them?**"
   ]
  },
  {
   "cell_type": "markdown",
   "id": "28c25747",
   "metadata": {},
   "source": [
    "There are 2 values of Boolean Data Type:  \n",
    "1) True  \n",
    "2) False  \n",
    "\n",
    "Boolean expressions use relational and logical operators. The result of a Boolean expression is either true or false.  \n",
    "\n",
    "examples:"
   ]
  },
  {
   "cell_type": "code",
   "execution_count": 4,
   "id": "edf4e6b5",
   "metadata": {},
   "outputs": [
    {
     "data": {
      "text/plain": [
       "True"
      ]
     },
     "execution_count": 4,
     "metadata": {},
     "output_type": "execute_result"
    }
   ],
   "source": [
    "1<=2"
   ]
  },
  {
   "cell_type": "code",
   "execution_count": 6,
   "id": "bae760fb",
   "metadata": {},
   "outputs": [
    {
     "data": {
      "text/plain": [
       "False"
      ]
     },
     "execution_count": 6,
     "metadata": {},
     "output_type": "execute_result"
    }
   ],
   "source": [
    "0==1"
   ]
  },
  {
   "cell_type": "markdown",
   "id": "7f3041f8",
   "metadata": {},
   "source": [
    "**Question:2  \n",
    "What are the three different types of Boolean operators?**"
   ]
  },
  {
   "cell_type": "markdown",
   "id": "d1a503f8",
   "metadata": {},
   "source": [
    "There are three basic Boolean operators : AND, OR and NOT.  \n",
    "\n",
    "AND : Provides results that contain both or all keywords. ex.- Pen AND Notebook.  \n",
    "OR  : Provides results that contain either keyword.  ex. - Pen OR Notebook.  \n",
    "NOT : Provides results that contain the first keyword but not the second. ex Pen NOT Notebook.\n"
   ]
  },
  {
   "cell_type": "markdown",
   "id": "ca13d832",
   "metadata": {},
   "source": [
    "**Question:3  \n",
    "Make a list of each Boolean operator's truth tables (i.e. every possible combination of Boolean values for the operator and what it evaluate ).**"
   ]
  },
  {
   "cell_type": "code",
   "execution_count": 3,
   "id": "3e6a9555",
   "metadata": {},
   "outputs": [
    {
     "data": {
      "text/plain": [
       "True"
      ]
     },
     "execution_count": 3,
     "metadata": {},
     "output_type": "execute_result"
    }
   ],
   "source": [
    "True and True"
   ]
  },
  {
   "cell_type": "code",
   "execution_count": 4,
   "id": "f11bdd86",
   "metadata": {},
   "outputs": [
    {
     "data": {
      "text/plain": [
       "False"
      ]
     },
     "execution_count": 4,
     "metadata": {},
     "output_type": "execute_result"
    }
   ],
   "source": [
    "True and False"
   ]
  },
  {
   "cell_type": "code",
   "execution_count": 5,
   "id": "c99a8fc7",
   "metadata": {},
   "outputs": [
    {
     "data": {
      "text/plain": [
       "False"
      ]
     },
     "execution_count": 5,
     "metadata": {},
     "output_type": "execute_result"
    }
   ],
   "source": [
    "False and True"
   ]
  },
  {
   "cell_type": "code",
   "execution_count": 6,
   "id": "47b03a61",
   "metadata": {},
   "outputs": [
    {
     "data": {
      "text/plain": [
       "False"
      ]
     },
     "execution_count": 6,
     "metadata": {},
     "output_type": "execute_result"
    }
   ],
   "source": [
    "False and False"
   ]
  },
  {
   "cell_type": "code",
   "execution_count": 7,
   "id": "74eefe53",
   "metadata": {},
   "outputs": [
    {
     "data": {
      "text/plain": [
       "True"
      ]
     },
     "execution_count": 7,
     "metadata": {},
     "output_type": "execute_result"
    }
   ],
   "source": [
    "True or True "
   ]
  },
  {
   "cell_type": "code",
   "execution_count": 8,
   "id": "5909ad4f",
   "metadata": {},
   "outputs": [
    {
     "data": {
      "text/plain": [
       "True"
      ]
     },
     "execution_count": 8,
     "metadata": {},
     "output_type": "execute_result"
    }
   ],
   "source": [
    "True or False"
   ]
  },
  {
   "cell_type": "code",
   "execution_count": 9,
   "id": "8ae17e45",
   "metadata": {},
   "outputs": [
    {
     "data": {
      "text/plain": [
       "True"
      ]
     },
     "execution_count": 9,
     "metadata": {},
     "output_type": "execute_result"
    }
   ],
   "source": [
    "False or True "
   ]
  },
  {
   "cell_type": "code",
   "execution_count": 10,
   "id": "bf47bc43",
   "metadata": {},
   "outputs": [
    {
     "data": {
      "text/plain": [
       "False"
      ]
     },
     "execution_count": 10,
     "metadata": {},
     "output_type": "execute_result"
    }
   ],
   "source": [
    "False or False"
   ]
  },
  {
   "cell_type": "code",
   "execution_count": 11,
   "id": "7a62ee9c",
   "metadata": {},
   "outputs": [
    {
     "data": {
      "text/plain": [
       "False"
      ]
     },
     "execution_count": 11,
     "metadata": {},
     "output_type": "execute_result"
    }
   ],
   "source": [
    "not True"
   ]
  },
  {
   "cell_type": "code",
   "execution_count": null,
   "id": "3e8a16ba",
   "metadata": {},
   "outputs": [],
   "source": [
    "not False"
   ]
  },
  {
   "cell_type": "markdown",
   "id": "59b01e3e",
   "metadata": {},
   "source": [
    "Truth Table for AND  \n",
    "A B output  \n",
    "0 0 0  \n",
    "0 1 0  \n",
    "1 0 0  \n",
    "1 1 1  \n",
    "\n",
    "-------------------------  \n",
    "Truth Table for OR  \n",
    "A B output  \n",
    "0 0 0  \n",
    "0 1 1  \n",
    "1 0 1  \n",
    "1 1 1  \n",
    "\n",
    "------------------------------  \n",
    "Truth Table for NOT  \n",
    "A output  \n",
    "0 1  \n",
    "1 0  "
   ]
  },
  {
   "cell_type": "markdown",
   "id": "06ff95a6",
   "metadata": {},
   "source": [
    "**Question:4  \n",
    "What are the values of the following expressions?**"
   ]
  },
  {
   "cell_type": "code",
   "execution_count": 12,
   "id": "8ce8386d",
   "metadata": {},
   "outputs": [
    {
     "data": {
      "text/plain": [
       "False"
      ]
     },
     "execution_count": 12,
     "metadata": {},
     "output_type": "execute_result"
    }
   ],
   "source": [
    "(5 > 4) and (3 == 5)"
   ]
  },
  {
   "cell_type": "code",
   "execution_count": 13,
   "id": "05d274cb",
   "metadata": {},
   "outputs": [
    {
     "data": {
      "text/plain": [
       "False"
      ]
     },
     "execution_count": 13,
     "metadata": {},
     "output_type": "execute_result"
    }
   ],
   "source": [
    "not (5 > 4)"
   ]
  },
  {
   "cell_type": "code",
   "execution_count": 14,
   "id": "bdf08af1",
   "metadata": {},
   "outputs": [
    {
     "data": {
      "text/plain": [
       "True"
      ]
     },
     "execution_count": 14,
     "metadata": {},
     "output_type": "execute_result"
    }
   ],
   "source": [
    "(5 > 4) or (3 == 5)"
   ]
  },
  {
   "cell_type": "code",
   "execution_count": 15,
   "id": "aed52ed9",
   "metadata": {},
   "outputs": [
    {
     "data": {
      "text/plain": [
       "False"
      ]
     },
     "execution_count": 15,
     "metadata": {},
     "output_type": "execute_result"
    }
   ],
   "source": [
    "not ((5 > 4) or (3 == 5))"
   ]
  },
  {
   "cell_type": "code",
   "execution_count": 16,
   "id": "b9e3f779",
   "metadata": {},
   "outputs": [
    {
     "data": {
      "text/plain": [
       "False"
      ]
     },
     "execution_count": 16,
     "metadata": {},
     "output_type": "execute_result"
    }
   ],
   "source": [
    "(True and True) and (True == False)"
   ]
  },
  {
   "cell_type": "code",
   "execution_count": 17,
   "id": "a1487946",
   "metadata": {},
   "outputs": [
    {
     "data": {
      "text/plain": [
       "True"
      ]
     },
     "execution_count": 17,
     "metadata": {},
     "output_type": "execute_result"
    }
   ],
   "source": [
    "(not False) or (not True)"
   ]
  },
  {
   "cell_type": "markdown",
   "id": "a28318b9",
   "metadata": {},
   "source": [
    "**Question:5  \n",
    "What are the six comparison operators?**"
   ]
  },
  {
   "cell_type": "markdown",
   "id": "f1849d25",
   "metadata": {},
   "source": [
    "Below are the comparison operator's:  \n",
    "==, !=, <, >, <=, and >="
   ]
  },
  {
   "cell_type": "markdown",
   "id": "aee526b9",
   "metadata": {},
   "source": [
    "**Question:6 How do you tell the difference between the equal to and assignment operators?  \n",
    "Describe a condition and when you would use one.**"
   ]
  },
  {
   "cell_type": "markdown",
   "id": "647ca0c1",
   "metadata": {},
   "source": [
    "= is the assignment operator that is used to store the value in the variable.  \n",
    "== is the equal operator that is used to compare the two values.  \n",
    "\n",
    "for ex:"
   ]
  },
  {
   "cell_type": "code",
   "execution_count": 24,
   "id": "cd3b9fae",
   "metadata": {},
   "outputs": [
    {
     "name": "stdout",
     "output_type": "stream",
     "text": [
      "a and b are not equal\n"
     ]
    }
   ],
   "source": [
    "# 'Equal to' operator \n",
    "a=5\n",
    "b=7\n",
    "if (a==b):\n",
    "    print(\"a is equal to b\")\n",
    "else:\n",
    "    print(\"a and b are not equal\")\n",
    "    "
   ]
  },
  {
   "cell_type": "code",
   "execution_count": 26,
   "id": "5ce428bb",
   "metadata": {},
   "outputs": [
    {
     "name": "stdout",
     "output_type": "stream",
     "text": [
      "c= 15\n"
     ]
    }
   ],
   "source": [
    "# Assignment Operator\n",
    "\n",
    "c=15\n",
    "print(\"c=\",c)"
   ]
  },
  {
   "cell_type": "markdown",
   "id": "c712835b",
   "metadata": {},
   "source": [
    "**Question:7  \n",
    "    Identify the three blocks in the above code:**"
   ]
  },
  {
   "cell_type": "code",
   "execution_count": 30,
   "id": "6573db37",
   "metadata": {},
   "outputs": [
    {
     "name": "stdout",
     "output_type": "stream",
     "text": [
      "ham\n",
      "spam\n",
      "spam\n"
     ]
    }
   ],
   "source": [
    "\n",
    "spam = 0\n",
    "if spam == 10:     #Block 1\n",
    "    print('eggs') \n",
    "if spam > 5:       #Block 2\n",
    "    print('bacon')\n",
    "else:              #Block 3\n",
    "    print('ham')\n",
    "    print('spam')\n",
    "    print('spam')\n",
    "\n",
    "# These are the 3 blocks in the given code."
   ]
  },
  {
   "cell_type": "markdown",
   "id": "36b6e5c9",
   "metadata": {},
   "source": [
    "**Question:8  \n",
    "Write code that prints Hello if 1 is stored in spam, prints Howdy if 2 is stored in spam, and prints Greetings,  \n",
    "if anything else is stored in spam.**"
   ]
  },
  {
   "cell_type": "code",
   "execution_count": 33,
   "id": "83925b38",
   "metadata": {},
   "outputs": [
    {
     "name": "stdout",
     "output_type": "stream",
     "text": [
      "Type the value of spam:1\n",
      "Hello\n"
     ]
    }
   ],
   "source": [
    "spam = int(input(\"Type the value of spam:\"))\n",
    "if spam == 1:\n",
    "    print(\"Hello\")\n",
    "elif spam == 2:\n",
    "    print(\"Howdy\")\n",
    "else:\n",
    "    print(\"Greetings!\")\n",
    "        "
   ]
  },
  {
   "cell_type": "markdown",
   "id": "7fcd0916",
   "metadata": {},
   "source": [
    "**Question:9  \n",
    "    If your programme is stuck in an endless loop, what keys you’ll press?**"
   ]
  },
  {
   "cell_type": "markdown",
   "id": "7002ab75",
   "metadata": {},
   "source": [
    "Control+C will stop the existing performing operations."
   ]
  },
  {
   "cell_type": "markdown",
   "id": "1d3d9d7a",
   "metadata": {},
   "source": [
    "**Question:10  \n",
    " How can you tell the difference between break and continue?**"
   ]
  },
  {
   "cell_type": "code",
   "execution_count": 40,
   "id": "5095254f",
   "metadata": {},
   "outputs": [
    {
     "name": "stdout",
     "output_type": "stream",
     "text": [
      "7\n",
      "0\n",
      "1\n",
      "Here loop is breaked\n",
      "0\n",
      "1\n",
      "3\n",
      "4\n",
      "5\n",
      "6\n"
     ]
    }
   ],
   "source": [
    "# break\n",
    "n=int(input())\n",
    "for i in range(n):\n",
    "    if(i==2):\n",
    "        break        # this terminates the execution of the current loop and passes the control over the next loop \n",
    "    print(i)\n",
    "    \n",
    "print('Here loop is breaked')\n",
    "\n",
    "# continue\n",
    "for i in range(n):\n",
    "    if(i==2):\n",
    "        continue    # it skips the current iteration(i==2) and executes the very next iteration in the loop.\n",
    "    print(i)\n",
    "    "
   ]
  },
  {
   "cell_type": "markdown",
   "id": "5ba2cde7",
   "metadata": {},
   "source": [
    "**Question:11  \n",
    "In a for loop, what is the difference between range(10), range(0, 10), and range(0, 10, 1)?**"
   ]
  },
  {
   "cell_type": "markdown",
   "id": "75780a70",
   "metadata": {},
   "source": [
    "range will show range(start,stop,step)\n",
    "\n",
    "If start is not mentioned, by default it will start with 0. \n",
    "\n",
    "In the above case, The meaning of all 3 is exactly same. \n",
    "\n"
   ]
  },
  {
   "cell_type": "markdown",
   "id": "695e8117",
   "metadata": {},
   "source": [
    "**Question:12  \n",
    "Write a short program that prints the numbers 1 to 10 using a for loop.  \n",
    "Then write an equivalent program that prints the numbers 1 to 10 using a while loop.**"
   ]
  },
  {
   "cell_type": "code",
   "execution_count": 10,
   "id": "47759619",
   "metadata": {},
   "outputs": [
    {
     "name": "stdout",
     "output_type": "stream",
     "text": [
      "1\n",
      "2\n",
      "3\n",
      "4\n",
      "5\n",
      "6\n",
      "7\n",
      "8\n",
      "9\n",
      "10\n",
      "----------------------------------------\n",
      "1\n",
      "2\n",
      "3\n",
      "4\n",
      "5\n",
      "6\n",
      "7\n",
      "8\n",
      "9\n",
      "10\n"
     ]
    }
   ],
   "source": [
    "'''This is For loop'''\n",
    "for i in range(1,11):\n",
    "    print(i)\n",
    "    \n",
    "print(\"--\"*20)\n",
    "\n",
    "'''This is While loop'''\n",
    "j=1\n",
    "while j<=10:\n",
    "    print(j)\n",
    "    j=j+1\n",
    "\n",
    "    "
   ]
  },
  {
   "cell_type": "markdown",
   "id": "9110cfc7",
   "metadata": {},
   "source": [
    "**Question-13  \n",
    "If you had a function named bacon() inside a module named spam, how would you call it after importing spam?**"
   ]
  },
  {
   "cell_type": "markdown",
   "id": "d0d997e9",
   "metadata": {},
   "source": [
    "This function can be called with spam. bacon()."
   ]
  },
  {
   "cell_type": "code",
   "execution_count": null,
   "id": "fc98faef",
   "metadata": {},
   "outputs": [],
   "source": []
  }
 ],
 "metadata": {
  "kernelspec": {
   "display_name": "Python 3",
   "language": "python",
   "name": "python3"
  },
  "language_info": {
   "codemirror_mode": {
    "name": "ipython",
    "version": 3
   },
   "file_extension": ".py",
   "mimetype": "text/x-python",
   "name": "python",
   "nbconvert_exporter": "python",
   "pygments_lexer": "ipython3",
   "version": "3.8.8"
  }
 },
 "nbformat": 4,
 "nbformat_minor": 5
}
