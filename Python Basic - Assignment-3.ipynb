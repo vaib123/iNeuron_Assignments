{
 "cells": [
  {
   "cell_type": "markdown",
   "id": "9cf41432",
   "metadata": {},
   "source": [
    "Name: Vaibhav Sanjay Pate  \n",
    "Program: Full Stack Data Science Bootcamp  \n",
    "Assignment Number 3  "
   ]
  },
  {
   "cell_type": "markdown",
   "id": "a6c55f93",
   "metadata": {},
   "source": [
    "**1. Why are functions advantageous to have in your programs?**"
   ]
  },
  {
   "cell_type": "markdown",
   "id": "6365df71",
   "metadata": {},
   "source": [
    "Functions reduce the need for duplicate code.  \n",
    "This makes programs shorter, easier to read, and easier to update."
   ]
  },
  {
   "cell_type": "markdown",
   "id": "0efd1785",
   "metadata": {},
   "source": [
    "**2. When does the code in a function run: when it's specified or when it's called?**"
   ]
  },
  {
   "cell_type": "markdown",
   "id": "ec5ee7d4",
   "metadata": {},
   "source": [
    "The code in a function run when the function is called, not when the function is specified."
   ]
  },
  {
   "cell_type": "markdown",
   "id": "e64cdd10",
   "metadata": {},
   "source": [
    "**3. What statement creates a function?**"
   ]
  },
  {
   "cell_type": "markdown",
   "id": "fa3161a2",
   "metadata": {},
   "source": [
    "The 'def' statement creates a function."
   ]
  },
  {
   "cell_type": "code",
   "execution_count": null,
   "id": "bdfd5a6d",
   "metadata": {},
   "outputs": [],
   "source": [
    "#Example\n",
    "\n",
    "def fun():\n",
    "    pass"
   ]
  },
  {
   "cell_type": "markdown",
   "id": "de5d534e",
   "metadata": {},
   "source": [
    "**4. What is the difference between a function and a function call?**"
   ]
  },
  {
   "cell_type": "markdown",
   "id": "07d11f18",
   "metadata": {},
   "source": [
    "A function is a block of code that does a particular operation and returns a result. It usually accepts inputs as parameters and returns a result. The parameters are not mandatory."
   ]
  },
  {
   "cell_type": "code",
   "execution_count": null,
   "id": "c06a3fbc",
   "metadata": {},
   "outputs": [],
   "source": [
    "#Ex\n",
    "Function add(a,b)  \n",
    "return a+ b"
   ]
  },
  {
   "cell_type": "markdown",
   "id": "7dac4cbc",
   "metadata": {},
   "source": [
    "A function call is the code used to pass control to a function. "
   ]
  },
  {
   "cell_type": "code",
   "execution_count": null,
   "id": "ffeda349",
   "metadata": {},
   "outputs": [],
   "source": [
    "#Ex\n",
    "b = add(5,6) "
   ]
  },
  {
   "cell_type": "markdown",
   "id": "ffbfd020",
   "metadata": {},
   "source": [
    "**5. How many global scopes are there in a Python program? How many local scopes?**"
   ]
  },
  {
   "cell_type": "markdown",
   "id": "adaef358",
   "metadata": {},
   "source": [
    "There is one global scope, and a local scope is created whenever a function is called."
   ]
  },
  {
   "cell_type": "markdown",
   "id": "fabf1f18",
   "metadata": {},
   "source": [
    "**6. What happens to variables in a local scope when the function call returns?**"
   ]
  },
  {
   "cell_type": "markdown",
   "id": "7956d49f",
   "metadata": {},
   "source": [
    "When the execution of the function terminates (returns), the local variables are destroyed."
   ]
  },
  {
   "cell_type": "markdown",
   "id": "3b49bf42",
   "metadata": {},
   "source": [
    "**7. What is the concept of a return value? Is it possible to have a return value in an expression?**"
   ]
  },
  {
   "cell_type": "markdown",
   "id": "0c0e053a",
   "metadata": {},
   "source": [
    "A return value is the value that a function call evaluates to.  \n",
    "Like any value, a return value can be used as part of an expression."
   ]
  },
  {
   "cell_type": "markdown",
   "id": "5aa155d2",
   "metadata": {},
   "source": [
    "**8. If a function does not have a return statement, what is the return value of a call to that function?**"
   ]
  },
  {
   "cell_type": "markdown",
   "id": "6411b486",
   "metadata": {},
   "source": [
    "If there is no return statement for a function, its return value is None."
   ]
  },
  {
   "cell_type": "markdown",
   "id": "d6cf8bba",
   "metadata": {},
   "source": [
    "**9. How do you make a function variable refer to the global variable?**"
   ]
  },
  {
   "cell_type": "markdown",
   "id": "85f8822f",
   "metadata": {},
   "source": [
    "A global statement will force a variable in a function to refer to the global variable."
   ]
  },
  {
   "cell_type": "markdown",
   "id": "90cc07c6",
   "metadata": {},
   "source": [
    "**10. What is the data type of None?**"
   ]
  },
  {
   "cell_type": "markdown",
   "id": "479f4048",
   "metadata": {},
   "source": [
    "It will be NonType."
   ]
  },
  {
   "cell_type": "markdown",
   "id": "21a8e401",
   "metadata": {},
   "source": [
    "**11. What does the sentence import areallyourpetsnamederic do?**"
   ]
  },
  {
   "cell_type": "markdown",
   "id": "85e866ad",
   "metadata": {},
   "source": [
    "This will import the module of this name."
   ]
  },
  {
   "cell_type": "markdown",
   "id": "533477f4",
   "metadata": {},
   "source": [
    "**12. If you had a bacon() feature in a spam module, what would you call it after importing spam?**"
   ]
  },
  {
   "cell_type": "markdown",
   "id": "f658cfdc",
   "metadata": {},
   "source": [
    "with spam.bacon()."
   ]
  },
  {
   "cell_type": "markdown",
   "id": "e937e174",
   "metadata": {},
   "source": [
    "**13. What can you do to save a programme from crashing if it encounters an error?**"
   ]
  },
  {
   "cell_type": "markdown",
   "id": "b253b0c6",
   "metadata": {},
   "source": [
    "The line which is causing the error keep it in the 'try' clause."
   ]
  },
  {
   "cell_type": "markdown",
   "id": "3979d809",
   "metadata": {},
   "source": [
    "**14. What is the purpose of the try clause? What is the purpose of the except clause?**"
   ]
  },
  {
   "cell_type": "markdown",
   "id": "9cf038a6",
   "metadata": {},
   "source": [
    "The code that could potentially cause an error goes in the try clause.  \n",
    "\n",
    "The code that executes if an error happens goes in the except clause.  "
   ]
  },
  {
   "cell_type": "code",
   "execution_count": null,
   "id": "c97674af",
   "metadata": {},
   "outputs": [],
   "source": []
  }
 ],
 "metadata": {
  "kernelspec": {
   "display_name": "Python 3 (ipykernel)",
   "language": "python",
   "name": "python3"
  },
  "language_info": {
   "codemirror_mode": {
    "name": "ipython",
    "version": 3
   },
   "file_extension": ".py",
   "mimetype": "text/x-python",
   "name": "python",
   "nbconvert_exporter": "python",
   "pygments_lexer": "ipython3",
   "version": "3.9.12"
  }
 },
 "nbformat": 4,
 "nbformat_minor": 5
}
